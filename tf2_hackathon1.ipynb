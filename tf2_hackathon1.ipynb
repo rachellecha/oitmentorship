{
 "cells": [
  {
   "cell_type": "markdown",
   "metadata": {},
   "source": [
    "# Hackathon #1\n",
    "\n",
    "Written by Eleanor Quint"
   ]
  },
  {
   "cell_type": "code",
   "execution_count": 1,
   "metadata": {},
   "outputs": [],
   "source": [
    "# We'll start with our library imports...\n",
    "from __future__ import print_function\n",
    "\n",
    "import tensorflow as tf  # to specify and run computation graphs"
   ]
  },
  {
   "cell_type": "markdown",
   "metadata": {},
   "source": [
    "#### Tensor\n",
    "\n",
    "The basic unit of data in TensorFlow is the [Tensor](https://www.tensorflow.org/api_docs/python/tf/Tensor). A tensor is a multi-dimensional array of numerical variable specialized for numerical computation with an underlying data type (think `float` or `int`). We say that a tensor's _rank_ is its number of dimensions. Here are some examples of tensors."
   ]
  },
  {
   "cell_type": "code",
   "execution_count": 2,
   "metadata": {},
   "outputs": [
    {
     "name": "stdout",
     "output_type": "stream",
     "text": [
      "<tf.Variable 'Variable:0' shape=() dtype=complex128, numpy=(12.3-4.85j)>\n",
      "<tf.Variable 'primes:0' shape=(5,) dtype=int32, numpy=array([ 2,  3,  5,  7, 11], dtype=int32)>\n",
      "<tf.Variable 'Variable:0' shape=(2, 2) dtype=int32, numpy=\n",
      "array([[1, 0],\n",
      "       [0, 1]], dtype=int32)>\n",
      "We can retrieve a numpy array from TensorFlow as: [[1 0]\n",
      " [0 1]] is a <class 'numpy.ndarray'>\n",
      "tf.shape returns a Tensor: tf.Tensor([ 10 299 299   3], shape=(4,), dtype=int32)\n",
      "while .shape returns a tuple: (10, 299, 299, 3)\n"
     ]
    }
   ],
   "source": [
    "# a rank 0 tensor; a scalar with shape ()\n",
    "its_complicated = tf.Variable(12.3 - 4.85j, tf.complex64)\n",
    "print(its_complicated)\n",
    "\n",
    "# a rank 1 tensor; a vector with shape (5,), meaning it's just a plain 'ol array\n",
    "# notice that we've given a name to this variable\n",
    "first_primes = tf.Variable([2, 3, 5, 7, 11], tf.int32, name='primes')\n",
    "print(first_primes)\n",
    "\n",
    "# a rank 2 tensor; a matrix with shape [2, 2]\n",
    "# notice that the dtype is inferred when we don't specify it\n",
    "my_identity = tf.Variable([[1, 0],[0, 1]])\n",
    "print(my_identity)\n",
    "print(\"We can retrieve a numpy array from TensorFlow as:\", my_identity.numpy(), \"is a\", type(my_identity.numpy()))\n",
    "\n",
    "# a rank 4 tensor with shape [10, 299, 299, 3]\n",
    "blank_image = tf.zeros([10, 299, 299, 3])\n",
    "print(\"tf.shape returns a Tensor:\", tf.shape(blank_image))\n",
    "print(\"while .shape returns a tuple:\", blank_image.shape)"
   ]
  },
  {
   "cell_type": "markdown",
   "metadata": {},
   "source": [
    "The rank of a tensor can be retrieved with [tf.rank](https://www.tensorflow.org/api_docs/python/tf/rank). The shape of a tensor can be retrieved by calling the [tf.shape](https://www.tensorflow.org/api_docs/python/tf/shape) operation. (Note that for a tensor $x$, `tf.rank(x) == len(tf.shape(x))`. Tensors can be reshaped with [tf.reshape](https://www.tensorflow.org/api_docs/python/tf/reshape). For example"
   ]
  },
  {
   "cell_type": "code",
   "execution_count": 4,
   "metadata": {},
   "outputs": [
    {
     "name": "stdout",
     "output_type": "stream",
     "text": [
      "tf.Tensor([0 1 2 3 4 5 6 7 8 9], shape=(10,), dtype=int32)\n",
      "tf.Tensor(\n",
      "[[0 1 2 3 4]\n",
      " [5 6 7 8 9]], shape=(2, 5), dtype=int32)\n",
      "tf.Tensor([[0 1 2 3 4 5 6 7 8 9]], shape=(1, 10), dtype=int32)\n"
     ]
    }
   ],
   "source": [
    "print(tf.range(10))\n",
    "print(tf.reshape(tf.range(10), (2,5)))  # re-arrange into two rows\n",
    "print(tf.reshape(tf.range(10), (1,10))) # add a dimension"
   ]
  },
  {
   "cell_type": "code",
   "execution_count": null,
   "metadata": {},
   "outputs": [],
   "source": []
  }
 ],
 "metadata": {
  "kernelspec": {
   "display_name": "Python oitenv",
   "language": "python",
   "name": "oitenv"
  },
  "language_info": {
   "codemirror_mode": {
    "name": "ipython",
    "version": 3
   },
   "file_extension": ".py",
   "mimetype": "text/x-python",
   "name": "python",
   "nbconvert_exporter": "python",
   "pygments_lexer": "ipython3",
   "version": "3.7.4"
  }
 },
 "nbformat": 4,
 "nbformat_minor": 4
}
